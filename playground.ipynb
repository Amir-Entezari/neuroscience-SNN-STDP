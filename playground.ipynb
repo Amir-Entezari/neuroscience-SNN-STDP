{
 "cells": [
  {
   "cell_type": "code",
   "execution_count": 1,
   "metadata": {
    "collapsed": true,
    "ExecuteTime": {
     "start_time": "2024-05-04T17:11:05.699922Z",
     "end_time": "2024-05-04T17:11:07.606319Z"
    }
   },
   "outputs": [
    {
     "ename": "KeyboardInterrupt",
     "evalue": "",
     "output_type": "error",
     "traceback": [
      "\u001B[0;31m---------------------------------------------------------------------------\u001B[0m",
      "\u001B[0;31mKeyboardInterrupt\u001B[0m                         Traceback (most recent call last)",
      "Cell \u001B[0;32mIn[1], line 9\u001B[0m\n\u001B[1;32m      7\u001B[0m \u001B[38;5;28;01mfrom\u001B[39;00m \u001B[38;5;21;01mmodels\u001B[39;00m\u001B[38;5;21;01m.\u001B[39;00m\u001B[38;5;21;01mdendrites\u001B[39;00m \u001B[38;5;28;01mimport\u001B[39;00m Dendrite\n\u001B[1;32m      8\u001B[0m \u001B[38;5;28;01mfrom\u001B[39;00m \u001B[38;5;21;01mmodels\u001B[39;00m\u001B[38;5;21;01m.\u001B[39;00m\u001B[38;5;21;01mcurrents\u001B[39;00m \u001B[38;5;28;01mimport\u001B[39;00m ConstantCurrent, NoisyCurrent, SetCurrent, CurrentSum\n\u001B[0;32m----> 9\u001B[0m \u001B[38;5;28;01mfrom\u001B[39;00m \u001B[38;5;21;01mmodels\u001B[39;00m\u001B[38;5;21;01m.\u001B[39;00m\u001B[38;5;21;01mencoders\u001B[39;00m \u001B[38;5;28;01mimport\u001B[39;00m TimeToFirstSpikeEncoder, NumberEncoder, PoissonEncoder\n\u001B[1;32m     10\u001B[0m \u001B[38;5;28;01mfrom\u001B[39;00m \u001B[38;5;21;01mmodels\u001B[39;00m\u001B[38;5;21;01m.\u001B[39;00m\u001B[38;5;21;01mneurons\u001B[39;00m \u001B[38;5;28;01mimport\u001B[39;00m LIF\n\u001B[1;32m     11\u001B[0m \u001B[38;5;28;01mfrom\u001B[39;00m \u001B[38;5;21;01mmodels\u001B[39;00m\u001B[38;5;21;01m.\u001B[39;00m\u001B[38;5;21;01msynapses\u001B[39;00m \u001B[38;5;28;01mimport\u001B[39;00m SimpleSynapse, FullyConnectedSynapse, RandomConnectedFixedProbSynapse, \\\n\u001B[1;32m     12\u001B[0m     RandomConnectedFixedInputSynapse\n",
      "File \u001B[0;32m~/Documents/university/Semester 8/Neuroscience/hw3/models/encoders.py:4\u001B[0m\n\u001B[1;32m      2\u001B[0m \u001B[38;5;28;01mimport\u001B[39;00m \u001B[38;5;21;01mtorch\u001B[39;00m\n\u001B[1;32m      3\u001B[0m \u001B[38;5;28;01mfrom\u001B[39;00m \u001B[38;5;21;01mpymonntorch\u001B[39;00m \u001B[38;5;28;01mimport\u001B[39;00m \u001B[38;5;241m*\u001B[39m\n\u001B[0;32m----> 4\u001B[0m \u001B[38;5;28;01mfrom\u001B[39;00m \u001B[38;5;21;01mscipy\u001B[39;00m\u001B[38;5;21;01m.\u001B[39;00m\u001B[38;5;21;01mstats\u001B[39;00m \u001B[38;5;28;01mimport\u001B[39;00m norm\n\u001B[1;32m      7\u001B[0m \u001B[38;5;28;01mclass\u001B[39;00m \u001B[38;5;21;01mEncoder\u001B[39;00m:\n\u001B[1;32m      8\u001B[0m     \u001B[38;5;28;01mdef\u001B[39;00m \u001B[38;5;21m__init__\u001B[39m(\u001B[38;5;28mself\u001B[39m, dataset, duration):\n",
      "File \u001B[0;32m~/Documents/university/Semester 8/Neuroscience/venv/lib/python3.11/site-packages/scipy/stats/__init__.py:606\u001B[0m\n\u001B[1;32m      1\u001B[0m \u001B[38;5;124;03m\"\"\"\u001B[39;00m\n\u001B[1;32m      2\u001B[0m \u001B[38;5;124;03m.. _statsrefmanual:\u001B[39;00m\n\u001B[1;32m      3\u001B[0m \n\u001B[0;32m   (...)\u001B[0m\n\u001B[1;32m    601\u001B[0m \n\u001B[1;32m    602\u001B[0m \u001B[38;5;124;03m\"\"\"\u001B[39;00m  \u001B[38;5;66;03m# noqa: E501\u001B[39;00m\n\u001B[1;32m    604\u001B[0m \u001B[38;5;28;01mfrom\u001B[39;00m \u001B[38;5;21;01m.\u001B[39;00m\u001B[38;5;21;01m_warnings_errors\u001B[39;00m \u001B[38;5;28;01mimport\u001B[39;00m (ConstantInputWarning, NearConstantInputWarning,\n\u001B[1;32m    605\u001B[0m                                DegenerateDataWarning, FitError)\n\u001B[0;32m--> 606\u001B[0m \u001B[38;5;28;01mfrom\u001B[39;00m \u001B[38;5;21;01m.\u001B[39;00m\u001B[38;5;21;01m_stats_py\u001B[39;00m \u001B[38;5;28;01mimport\u001B[39;00m \u001B[38;5;241m*\u001B[39m\n\u001B[1;32m    607\u001B[0m \u001B[38;5;28;01mfrom\u001B[39;00m \u001B[38;5;21;01m.\u001B[39;00m\u001B[38;5;21;01m_variation\u001B[39;00m \u001B[38;5;28;01mimport\u001B[39;00m variation\n\u001B[1;32m    608\u001B[0m \u001B[38;5;28;01mfrom\u001B[39;00m \u001B[38;5;21;01m.\u001B[39;00m\u001B[38;5;21;01mdistributions\u001B[39;00m \u001B[38;5;28;01mimport\u001B[39;00m \u001B[38;5;241m*\u001B[39m\n",
      "File \u001B[0;32m~/Documents/university/Semester 8/Neuroscience/venv/lib/python3.11/site-packages/scipy/stats/_stats_py.py:37\u001B[0m\n\u001B[1;32m     34\u001B[0m \u001B[38;5;28;01mimport\u001B[39;00m \u001B[38;5;21;01mnumpy\u001B[39;00m \u001B[38;5;28;01mas\u001B[39;00m \u001B[38;5;21;01mnp\u001B[39;00m\n\u001B[1;32m     35\u001B[0m \u001B[38;5;28;01mfrom\u001B[39;00m \u001B[38;5;21;01mnumpy\u001B[39;00m \u001B[38;5;28;01mimport\u001B[39;00m array, asarray, ma\n\u001B[0;32m---> 37\u001B[0m \u001B[38;5;28;01mfrom\u001B[39;00m \u001B[38;5;21;01mscipy\u001B[39;00m \u001B[38;5;28;01mimport\u001B[39;00m sparse\n\u001B[1;32m     38\u001B[0m \u001B[38;5;28;01mfrom\u001B[39;00m \u001B[38;5;21;01mscipy\u001B[39;00m\u001B[38;5;21;01m.\u001B[39;00m\u001B[38;5;21;01mspatial\u001B[39;00m\u001B[38;5;21;01m.\u001B[39;00m\u001B[38;5;21;01mdistance\u001B[39;00m \u001B[38;5;28;01mimport\u001B[39;00m cdist\n\u001B[1;32m     39\u001B[0m \u001B[38;5;28;01mfrom\u001B[39;00m \u001B[38;5;21;01mscipy\u001B[39;00m\u001B[38;5;21;01m.\u001B[39;00m\u001B[38;5;21;01mspatial\u001B[39;00m \u001B[38;5;28;01mimport\u001B[39;00m distance_matrix\n",
      "File \u001B[0;32m<frozen importlib._bootstrap>:1229\u001B[0m, in \u001B[0;36m_handle_fromlist\u001B[0;34m(module, fromlist, import_, recursive)\u001B[0m\n",
      "File \u001B[0;32m~/Documents/university/Semester 8/Neuroscience/venv/lib/python3.11/site-packages/scipy/__init__.py:134\u001B[0m, in \u001B[0;36m__getattr__\u001B[0;34m(name)\u001B[0m\n\u001B[1;32m    132\u001B[0m \u001B[38;5;28;01mdef\u001B[39;00m \u001B[38;5;21m__getattr__\u001B[39m(name):\n\u001B[1;32m    133\u001B[0m     \u001B[38;5;28;01mif\u001B[39;00m name \u001B[38;5;129;01min\u001B[39;00m submodules:\n\u001B[0;32m--> 134\u001B[0m         \u001B[38;5;28;01mreturn\u001B[39;00m \u001B[43m_importlib\u001B[49m\u001B[38;5;241;43m.\u001B[39;49m\u001B[43mimport_module\u001B[49m\u001B[43m(\u001B[49m\u001B[38;5;124;43mf\u001B[39;49m\u001B[38;5;124;43m'\u001B[39;49m\u001B[38;5;124;43mscipy.\u001B[39;49m\u001B[38;5;132;43;01m{\u001B[39;49;00m\u001B[43mname\u001B[49m\u001B[38;5;132;43;01m}\u001B[39;49;00m\u001B[38;5;124;43m'\u001B[39;49m\u001B[43m)\u001B[49m\n\u001B[1;32m    135\u001B[0m     \u001B[38;5;28;01melse\u001B[39;00m:\n\u001B[1;32m    136\u001B[0m         \u001B[38;5;28;01mtry\u001B[39;00m:\n",
      "File \u001B[0;32m/usr/lib/python3.11/importlib/__init__.py:126\u001B[0m, in \u001B[0;36mimport_module\u001B[0;34m(name, package)\u001B[0m\n\u001B[1;32m    124\u001B[0m             \u001B[38;5;28;01mbreak\u001B[39;00m\n\u001B[1;32m    125\u001B[0m         level \u001B[38;5;241m+\u001B[39m\u001B[38;5;241m=\u001B[39m \u001B[38;5;241m1\u001B[39m\n\u001B[0;32m--> 126\u001B[0m \u001B[38;5;28;01mreturn\u001B[39;00m \u001B[43m_bootstrap\u001B[49m\u001B[38;5;241;43m.\u001B[39;49m\u001B[43m_gcd_import\u001B[49m\u001B[43m(\u001B[49m\u001B[43mname\u001B[49m\u001B[43m[\u001B[49m\u001B[43mlevel\u001B[49m\u001B[43m:\u001B[49m\u001B[43m]\u001B[49m\u001B[43m,\u001B[49m\u001B[43m \u001B[49m\u001B[43mpackage\u001B[49m\u001B[43m,\u001B[49m\u001B[43m \u001B[49m\u001B[43mlevel\u001B[49m\u001B[43m)\u001B[49m\n",
      "File \u001B[0;32m~/Documents/university/Semester 8/Neuroscience/venv/lib/python3.11/site-packages/scipy/sparse/__init__.py:308\u001B[0m\n\u001B[1;32m    305\u001B[0m \u001B[38;5;28;01mfrom\u001B[39;00m \u001B[38;5;21;01m.\u001B[39;00m\u001B[38;5;21;01m_matrix_io\u001B[39;00m \u001B[38;5;28;01mimport\u001B[39;00m \u001B[38;5;241m*\u001B[39m\n\u001B[1;32m    307\u001B[0m \u001B[38;5;66;03m# For backward compatibility with v0.19.\u001B[39;00m\n\u001B[0;32m--> 308\u001B[0m \u001B[38;5;28;01mfrom\u001B[39;00m \u001B[38;5;21;01m.\u001B[39;00m \u001B[38;5;28;01mimport\u001B[39;00m csgraph\n\u001B[1;32m    310\u001B[0m \u001B[38;5;66;03m# Deprecated namespaces, to be removed in v2.0.0\u001B[39;00m\n\u001B[1;32m    311\u001B[0m \u001B[38;5;28;01mfrom\u001B[39;00m \u001B[38;5;21;01m.\u001B[39;00m \u001B[38;5;28;01mimport\u001B[39;00m (\n\u001B[1;32m    312\u001B[0m     base, bsr, compressed, construct, coo, csc, csr, data, dia, dok, extract,\n\u001B[1;32m    313\u001B[0m     lil, sparsetools, sputils\n\u001B[1;32m    314\u001B[0m )\n",
      "File \u001B[0;32m~/Documents/university/Semester 8/Neuroscience/venv/lib/python3.11/site-packages/scipy/sparse/csgraph/__init__.py:185\u001B[0m\n\u001B[1;32m    157\u001B[0m __docformat__ \u001B[38;5;241m=\u001B[39m \u001B[38;5;124m\"\u001B[39m\u001B[38;5;124mrestructuredtext en\u001B[39m\u001B[38;5;124m\"\u001B[39m\n\u001B[1;32m    159\u001B[0m __all__ \u001B[38;5;241m=\u001B[39m [\u001B[38;5;124m'\u001B[39m\u001B[38;5;124mconnected_components\u001B[39m\u001B[38;5;124m'\u001B[39m,\n\u001B[1;32m    160\u001B[0m            \u001B[38;5;124m'\u001B[39m\u001B[38;5;124mlaplacian\u001B[39m\u001B[38;5;124m'\u001B[39m,\n\u001B[1;32m    161\u001B[0m            \u001B[38;5;124m'\u001B[39m\u001B[38;5;124mshortest_path\u001B[39m\u001B[38;5;124m'\u001B[39m,\n\u001B[0;32m   (...)\u001B[0m\n\u001B[1;32m    182\u001B[0m            \u001B[38;5;124m'\u001B[39m\u001B[38;5;124mcsgraph_to_masked\u001B[39m\u001B[38;5;124m'\u001B[39m,\n\u001B[1;32m    183\u001B[0m            \u001B[38;5;124m'\u001B[39m\u001B[38;5;124mNegativeCycleError\u001B[39m\u001B[38;5;124m'\u001B[39m]\n\u001B[0;32m--> 185\u001B[0m \u001B[38;5;28;01mfrom\u001B[39;00m \u001B[38;5;21;01m.\u001B[39;00m\u001B[38;5;21;01m_laplacian\u001B[39;00m \u001B[38;5;28;01mimport\u001B[39;00m laplacian\n\u001B[1;32m    186\u001B[0m \u001B[38;5;28;01mfrom\u001B[39;00m \u001B[38;5;21;01m.\u001B[39;00m\u001B[38;5;21;01m_shortest_path\u001B[39;00m \u001B[38;5;28;01mimport\u001B[39;00m (\n\u001B[1;32m    187\u001B[0m     shortest_path, floyd_warshall, dijkstra, bellman_ford, johnson,\n\u001B[1;32m    188\u001B[0m     NegativeCycleError\n\u001B[1;32m    189\u001B[0m )\n\u001B[1;32m    190\u001B[0m \u001B[38;5;28;01mfrom\u001B[39;00m \u001B[38;5;21;01m.\u001B[39;00m\u001B[38;5;21;01m_traversal\u001B[39;00m \u001B[38;5;28;01mimport\u001B[39;00m (\n\u001B[1;32m    191\u001B[0m     breadth_first_order, depth_first_order, breadth_first_tree,\n\u001B[1;32m    192\u001B[0m     depth_first_tree, connected_components\n\u001B[1;32m    193\u001B[0m )\n",
      "File \u001B[0;32m~/Documents/university/Semester 8/Neuroscience/venv/lib/python3.11/site-packages/scipy/sparse/csgraph/_laplacian.py:7\u001B[0m\n\u001B[1;32m      5\u001B[0m \u001B[38;5;28;01mimport\u001B[39;00m \u001B[38;5;21;01mnumpy\u001B[39;00m \u001B[38;5;28;01mas\u001B[39;00m \u001B[38;5;21;01mnp\u001B[39;00m\n\u001B[1;32m      6\u001B[0m \u001B[38;5;28;01mfrom\u001B[39;00m \u001B[38;5;21;01mscipy\u001B[39;00m\u001B[38;5;21;01m.\u001B[39;00m\u001B[38;5;21;01msparse\u001B[39;00m \u001B[38;5;28;01mimport\u001B[39;00m issparse\n\u001B[0;32m----> 7\u001B[0m \u001B[38;5;28;01mfrom\u001B[39;00m \u001B[38;5;21;01mscipy\u001B[39;00m\u001B[38;5;21;01m.\u001B[39;00m\u001B[38;5;21;01msparse\u001B[39;00m\u001B[38;5;21;01m.\u001B[39;00m\u001B[38;5;21;01mlinalg\u001B[39;00m \u001B[38;5;28;01mimport\u001B[39;00m LinearOperator\n\u001B[1;32m      8\u001B[0m \u001B[38;5;28;01mfrom\u001B[39;00m \u001B[38;5;21;01mscipy\u001B[39;00m\u001B[38;5;21;01m.\u001B[39;00m\u001B[38;5;21;01msparse\u001B[39;00m\u001B[38;5;21;01m.\u001B[39;00m\u001B[38;5;21;01m_sputils\u001B[39;00m \u001B[38;5;28;01mimport\u001B[39;00m convert_pydata_sparse_to_scipy, is_pydata_spmatrix\n\u001B[1;32m     11\u001B[0m \u001B[38;5;66;03m###############################################################################\u001B[39;00m\n\u001B[1;32m     12\u001B[0m \u001B[38;5;66;03m# Graph laplacian\u001B[39;00m\n",
      "File \u001B[0;32m~/Documents/university/Semester 8/Neuroscience/venv/lib/python3.11/site-packages/scipy/sparse/linalg/__init__.py:130\u001B[0m\n\u001B[1;32m      1\u001B[0m \u001B[38;5;124;03m\"\"\"\u001B[39;00m\n\u001B[1;32m      2\u001B[0m \u001B[38;5;124;03mSparse linear algebra (:mod:`scipy.sparse.linalg`)\u001B[39;00m\n\u001B[1;32m      3\u001B[0m \u001B[38;5;124;03m==================================================\u001B[39;00m\n\u001B[0;32m   (...)\u001B[0m\n\u001B[1;32m    126\u001B[0m \n\u001B[1;32m    127\u001B[0m \u001B[38;5;124;03m\"\"\"\u001B[39;00m\n\u001B[1;32m    129\u001B[0m \u001B[38;5;28;01mfrom\u001B[39;00m \u001B[38;5;21;01m.\u001B[39;00m\u001B[38;5;21;01m_isolve\u001B[39;00m \u001B[38;5;28;01mimport\u001B[39;00m \u001B[38;5;241m*\u001B[39m\n\u001B[0;32m--> 130\u001B[0m \u001B[38;5;28;01mfrom\u001B[39;00m \u001B[38;5;21;01m.\u001B[39;00m\u001B[38;5;21;01m_dsolve\u001B[39;00m \u001B[38;5;28;01mimport\u001B[39;00m \u001B[38;5;241m*\u001B[39m\n\u001B[1;32m    131\u001B[0m \u001B[38;5;28;01mfrom\u001B[39;00m \u001B[38;5;21;01m.\u001B[39;00m\u001B[38;5;21;01m_interface\u001B[39;00m \u001B[38;5;28;01mimport\u001B[39;00m \u001B[38;5;241m*\u001B[39m\n\u001B[1;32m    132\u001B[0m \u001B[38;5;28;01mfrom\u001B[39;00m \u001B[38;5;21;01m.\u001B[39;00m\u001B[38;5;21;01m_eigen\u001B[39;00m \u001B[38;5;28;01mimport\u001B[39;00m \u001B[38;5;241m*\u001B[39m\n",
      "File \u001B[0;32m~/Documents/university/Semester 8/Neuroscience/venv/lib/python3.11/site-packages/scipy/sparse/linalg/_dsolve/__init__.py:58\u001B[0m\n\u001B[1;32m      1\u001B[0m \u001B[38;5;124;03m\"\"\"\u001B[39;00m\n\u001B[1;32m      2\u001B[0m \u001B[38;5;124;03mLinear Solvers\u001B[39;00m\n\u001B[1;32m      3\u001B[0m \u001B[38;5;124;03m==============\u001B[39;00m\n\u001B[0;32m   (...)\u001B[0m\n\u001B[1;32m     51\u001B[0m \n\u001B[1;32m     52\u001B[0m \u001B[38;5;124;03m\"\"\"\u001B[39;00m\n\u001B[1;32m     54\u001B[0m \u001B[38;5;66;03m#import umfpack\u001B[39;00m\n\u001B[1;32m     55\u001B[0m \u001B[38;5;66;03m#__doc__ = '\\n\\n'.join( (__doc__,  umfpack.__doc__) )\u001B[39;00m\n\u001B[1;32m     56\u001B[0m \u001B[38;5;66;03m#del umfpack\u001B[39;00m\n\u001B[0;32m---> 58\u001B[0m \u001B[38;5;28;01mfrom\u001B[39;00m \u001B[38;5;21;01m.\u001B[39;00m\u001B[38;5;21;01mlinsolve\u001B[39;00m \u001B[38;5;28;01mimport\u001B[39;00m \u001B[38;5;241m*\u001B[39m\n\u001B[1;32m     59\u001B[0m \u001B[38;5;28;01mfrom\u001B[39;00m \u001B[38;5;21;01m.\u001B[39;00m\u001B[38;5;21;01m_superlu\u001B[39;00m \u001B[38;5;28;01mimport\u001B[39;00m SuperLU\n\u001B[1;32m     60\u001B[0m \u001B[38;5;28;01mfrom\u001B[39;00m \u001B[38;5;21;01m.\u001B[39;00m \u001B[38;5;28;01mimport\u001B[39;00m _add_newdocs\n",
      "File \u001B[0;32m<frozen importlib._bootstrap>:1176\u001B[0m, in \u001B[0;36m_find_and_load\u001B[0;34m(name, import_)\u001B[0m\n",
      "File \u001B[0;32m<frozen importlib._bootstrap>:1147\u001B[0m, in \u001B[0;36m_find_and_load_unlocked\u001B[0;34m(name, import_)\u001B[0m\n",
      "File \u001B[0;32m<frozen importlib._bootstrap>:690\u001B[0m, in \u001B[0;36m_load_unlocked\u001B[0;34m(spec)\u001B[0m\n",
      "File \u001B[0;32m<frozen importlib._bootstrap_external>:936\u001B[0m, in \u001B[0;36mexec_module\u001B[0;34m(self, module)\u001B[0m\n",
      "File \u001B[0;32m<frozen importlib._bootstrap_external>:1032\u001B[0m, in \u001B[0;36mget_code\u001B[0;34m(self, fullname)\u001B[0m\n",
      "File \u001B[0;32m<frozen importlib._bootstrap_external>:1130\u001B[0m, in \u001B[0;36mget_data\u001B[0;34m(self, path)\u001B[0m\n",
      "\u001B[0;31mKeyboardInterrupt\u001B[0m: "
     ]
    }
   ],
   "source": [
    "from pymonntorch import *\n",
    "import torch\n",
    "\n",
    "import matplotlib.pyplot as plt\n",
    "\n",
    "from models.activity import ActivityRecorder\n",
    "from models.dendrites import Dendrite\n",
    "from models.currents import ConstantCurrent, NoisyCurrent, SetCurrent, CurrentSum\n",
    "from models.encoders import TimeToFirstSpikeEncoder, NumberEncoder, PoissonEncoder\n",
    "from models.neurons import LIF\n",
    "from models.synapses import SimpleSynapse, FullyConnectedSynapse, RandomConnectedFixedProbSynapse, \\\n",
    "    RandomConnectedFixedInputSynapse\n",
    "from models.time_res import TimeResolution\n",
    "from simulate import Simulation\n",
    "from utils.images import CustomImage\n"
   ]
  },
  {
   "cell_type": "code",
   "execution_count": null,
   "outputs": [],
   "source": [
    "img1 = CustomImage('dataset/slope.tif')\n",
    "img1.resize_image(10, 10)\n",
    "img1.img_show()"
   ],
   "metadata": {
    "collapsed": false,
    "ExecuteTime": {
     "start_time": "2024-05-04T17:11:07.611217Z",
     "end_time": "2024-05-04T17:11:07.673556Z"
    }
   }
  },
  {
   "cell_type": "code",
   "execution_count": null,
   "outputs": [],
   "source": [
    "sim = Simulation(net=Network(behavior={1: TimeResolution(dt=1.0,)}),)\n",
    "ng_exc1 = sim.add_neuron_group(\n",
    "    tag=\"ng_exc1\",\n",
    "    size=10,\n",
    "    behavior={\n",
    "        1: SetCurrent(value=0),\n",
    "        2: ConstantCurrent(value=1),\n",
    "        3: CurrentSum(),\n",
    "        6: LIF(\n",
    "            tau=10,\n",
    "            u_rest=-65,\n",
    "            u_reset=-70,\n",
    "            threshold=-55,\n",
    "            R=1.7,\n",
    "        ),\n",
    "        7: TimeToFirstSpikeEncoder(data=img1.img2tensor(),\n",
    "                                   duration=50,\n",
    "                                   sleep=50,\n",
    "                                   theta=1,\n",
    "                                   ),\n",
    "        8: ActivityRecorder(),\n",
    "        9: Recorder(variables=[\"u\", \"I\", \"inp_I\", \"activity\"], tag=\"ng_exc1_rec\"),\n",
    "        10: EventRecorder(variables=['spike'], tag=\"ng_exc1_event\")\n",
    "    }\n",
    ")\n",
    "\n",
    "sim.simulate(iterations=200)"
   ],
   "metadata": {
    "collapsed": false,
    "ExecuteTime": {
     "start_time": "2024-04-28T22:06:33.400366Z",
     "end_time": "2024-04-28T22:06:33.515371Z"
    }
   }
  },
  {
   "cell_type": "code",
   "execution_count": null,
   "outputs": [],
   "source": [
    "# %%\n",
    "fig, axs = plt.subplots(2, 2, figsize=(18, 8), sharex=True)\n",
    "ng_exc1.add_membrane_potential_plot(axs[0, 0], model_idx=6)\n",
    "ng_exc1.add_neuron_model_params_info(axs[0, 0], model_idx=6)\n",
    "\n",
    "ng_exc1.add_raster_plot(axs[0, 1])\n",
    "\n",
    "ng_exc1.add_current_plot(axs[1, 0])\n",
    "ng_exc1.add_current_params_info(axs[1,0], current_idx=2)\n",
    "\n",
    "ng_exc1.add_activity_plot(axs[1, 1])\n",
    "fig.suptitle(\"Activity for neuron group 1\", fontsize=20, fontweight='bold')\n",
    "plt.tight_layout()\n",
    "# plt.savefig(\"part1-Simple-ng-without-synapse.pdf\")\n",
    "plt.show()"
   ],
   "metadata": {
    "collapsed": false,
    "ExecuteTime": {
     "start_time": "2024-04-28T22:06:33.545344Z",
     "end_time": "2024-04-28T22:06:34.218402Z"
    }
   }
  },
  {
   "cell_type": "code",
   "execution_count": null,
   "outputs": [],
   "source": [
    "sim = Simulation(net=Network(behavior={1: TimeResolution(dt=1.0,)}),)\n",
    "ng_exc1 = sim.add_neuron_group(\n",
    "    tag=\"ng_exc1\",\n",
    "    size=10,\n",
    "    behavior={\n",
    "        1: SetCurrent(value=0),\n",
    "        2: ConstantCurrent(value=1),\n",
    "        3: CurrentSum(),\n",
    "        7: NumberEncoder(num=4.7,\n",
    "                         duration=20),\n",
    "        6: LIF(\n",
    "            tau=10,\n",
    "            u_rest=-65,\n",
    "            u_reset=-70,\n",
    "            threshold=-55,\n",
    "            R=1.7,\n",
    "        ),\n",
    "        8: ActivityRecorder(),\n",
    "        9: Recorder(variables=[\"u\", \"I\", \"inp_I\", \"activity\"], tag=\"ng_exc1_rec\"),\n",
    "        10: EventRecorder(variables=['spike'], tag=\"ng_exc1_event\")\n",
    "    }\n",
    ")\n",
    "\n",
    "sim.simulate(iterations=20)"
   ],
   "metadata": {
    "collapsed": false,
    "ExecuteTime": {
     "start_time": "2024-04-28T22:06:34.221649Z",
     "end_time": "2024-04-28T22:06:34.271619Z"
    }
   }
  },
  {
   "cell_type": "code",
   "execution_count": null,
   "outputs": [],
   "source": [
    "# %%\n",
    "fig, axs = plt.subplots(2, 2, figsize=(18, 8), sharex=True)\n",
    "ng_exc1.add_membrane_potential_plot(axs[0, 0], model_idx=6)\n",
    "ng_exc1.add_neuron_model_params_info(axs[0, 0], model_idx=7)\n",
    "ng_exc1.add_current_plot(axs[1, 0])\n",
    "ng_exc1.add_current_params_info(axs[1,0], current_idx=2)\n",
    "ng_exc1.add_raster_plot(axs[0, 1])\n",
    "ng_exc1.add_activity_plot(axs[1, 1])\n",
    "fig.suptitle(\"Activity for neuron group 1\", fontsize=20, fontweight='bold')\n",
    "plt.tight_layout()\n",
    "# plt.savefig(\"part1-Simple-ng-without-synapse.pdf\")\n",
    "plt.show()"
   ],
   "metadata": {
    "collapsed": false,
    "ExecuteTime": {
     "start_time": "2024-04-28T22:06:34.253505Z",
     "end_time": "2024-04-28T22:06:34.883731Z"
    }
   }
  },
  {
   "cell_type": "code",
   "execution_count": null,
   "outputs": [],
   "source": [
    "# %%\n",
    "fig = plt.figure(figsize=(18, 8))\n",
    "\n",
    "gs = fig.add_gridspec(3, 2)\n",
    "ax1 = fig.add_subplot(gs[0, 0])\n",
    "ax2 = fig.add_subplot(gs[0, 1])\n",
    "ax3 = fig.add_subplot(gs[1, 0])\n",
    "ax4 = fig.add_subplot(gs[1, 1])\n",
    "ax5 = fig.add_subplot(gs[2, :])\n",
    "\n",
    "ng_exc1.add_membrane_potential_plot(ax1, model_idx=6)\n",
    "ng_exc1.add_neuron_model_params_info(ax1, model_idx=7)\n",
    "\n",
    "ng_exc1.add_raster_plot(ax2)\n",
    "\n",
    "ng_exc1.add_current_plot(ax3)\n",
    "ng_exc1.add_current_params_info(ax3, current_idx=2)\n",
    "\n",
    "ng_exc1.add_activity_plot(ax4)\n",
    "\n",
    "ng_exc1.behavior[7].plot_x(ax5)\n",
    "fig.suptitle(\"Activity for neuron group 1\", fontsize=20, fontweight='bold')\n",
    "plt.tight_layout()\n",
    "# plt.savefig(\"part1-Simple-ng-without-synapse.pdf\")\n",
    "plt.show()"
   ],
   "metadata": {
    "collapsed": false,
    "ExecuteTime": {
     "start_time": "2024-04-28T22:06:34.897130Z",
     "end_time": "2024-04-28T22:06:35.868466Z"
    }
   }
  },
  {
   "cell_type": "code",
   "execution_count": null,
   "outputs": [],
   "source": [
    "sim = Simulation(net=Network(behavior={1: TimeResolution(dt=1.0,)}),)\n",
    "ng_exc1 = sim.add_neuron_group(\n",
    "    tag=\"ng_exc1\",\n",
    "    size=10,\n",
    "    behavior={\n",
    "        1: SetCurrent(value=0),\n",
    "        2: ConstantCurrent(value=1),\n",
    "        3: CurrentSum(),\n",
    "        6: LIF(\n",
    "            tau=10,\n",
    "            u_rest=-65,\n",
    "            u_reset=-70,\n",
    "            threshold=-55,\n",
    "            R=1.7,\n",
    "        ),\n",
    "        7: PoissonEncoder(data=[2,3,1,9,0,0,0,0],\n",
    "                                   duration=50,\n",
    "                                   sleep=50,\n",
    "                                   theta=1,\n",
    "                                   ),\n",
    "        8: ActivityRecorder(),\n",
    "        9: Recorder(variables=[\"u\", \"I\", \"inp_I\", \"activity\"], tag=\"ng_exc1_rec\"),\n",
    "        10: EventRecorder(variables=['spike'], tag=\"ng_exc1_event\")\n",
    "    }\n",
    ")\n",
    "\n",
    "sim.simulate(iterations=60)"
   ],
   "metadata": {
    "collapsed": false,
    "ExecuteTime": {
     "start_time": "2024-04-28T22:06:35.867419Z",
     "end_time": "2024-04-28T22:06:35.950242Z"
    }
   }
  },
  {
   "cell_type": "code",
   "execution_count": null,
   "outputs": [],
   "source": [
    "# %%\n",
    "fig, axs = plt.subplots(2, 2, figsize=(18, 8), sharex=True)\n",
    "ng_exc1.add_membrane_potential_plot(axs[0, 0], model_idx=6)\n",
    "ng_exc1.add_neuron_model_params_info(axs[0, 0], model_idx=6)\n",
    "\n",
    "ng_exc1.add_raster_plot(axs[0, 1])\n",
    "\n",
    "ng_exc1.add_current_plot(axs[1, 0])\n",
    "ng_exc1.add_current_params_info(axs[1,0], current_idx=2)\n",
    "\n",
    "ng_exc1.add_activity_plot(axs[1, 1])\n",
    "fig.suptitle(\"Activity for neuron group 1\", fontsize=20, fontweight='bold')\n",
    "plt.tight_layout()\n",
    "# plt.savefig(\"part1-Simple-ng-without-synapse.pdf\")\n",
    "plt.show()"
   ],
   "metadata": {
    "collapsed": false,
    "ExecuteTime": {
     "start_time": "2024-04-28T22:06:35.939121Z",
     "end_time": "2024-04-28T22:06:36.609244Z"
    }
   }
  }
 ],
 "metadata": {
  "kernelspec": {
   "display_name": "Python 3",
   "language": "python",
   "name": "python3"
  },
  "language_info": {
   "codemirror_mode": {
    "name": "ipython",
    "version": 2
   },
   "file_extension": ".py",
   "mimetype": "text/x-python",
   "name": "python",
   "nbconvert_exporter": "python",
   "pygments_lexer": "ipython2",
   "version": "2.7.6"
  }
 },
 "nbformat": 4,
 "nbformat_minor": 0
}
